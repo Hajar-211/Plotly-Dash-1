{
 "cells": [
  {
   "cell_type": "markdown",
   "metadata": {},
   "source": [
    "# Q0: import dash standard libraries"
   ]
  },
  {
   "cell_type": "code",
   "execution_count": 1,
   "metadata": {},
   "outputs": [],
   "source": [
    "from dash import Dash, dcc, html, Input, Output\n",
    "from jupyter_dash import JupyterDash"
   ]
  },
  {
   "cell_type": "code",
   "execution_count": 2,
   "metadata": {},
   "outputs": [],
   "source": [
    "import dash_bootstrap_components as dbc"
   ]
  },
  {
   "cell_type": "markdown",
   "metadata": {},
   "source": [
    "# Q1: Make dash that prints \"Data Science\""
   ]
  },
  {
   "cell_type": "code",
   "execution_count": null,
   "metadata": {},
   "outputs": [],
   "source": [
    "app = JupyterDash(\n",
    "    external_stylesheets=[dbc.themes.SPACELAB, dbc.icons.BOOTSTRAP]\n",
    ")"
   ]
  },
  {
   "cell_type": "code",
   "execution_count": null,
   "metadata": {},
   "outputs": [],
   "source": [
    "app = JupyterDash(__name__)\n",
    "app.layout = html.Div([\n",
    "html.H1('Data Science')\n",
    "])\n",
    "if __name__ == '__main__':\n",
    "    app.run_server(mode=\"inline\")"
   ]
  },
  {
   "cell_type": "markdown",
   "metadata": {},
   "source": [
    "# Q2: Make dash that takes name input and outpt \"Welcome to Data Science dashboard {name}\""
   ]
  },
  {
   "cell_type": "code",
   "execution_count": 17,
   "metadata": {},
   "outputs": [
    {
     "data": {
      "text/html": [
       "\n",
       "        <iframe\n",
       "            width=\"100%\"\n",
       "            height=\"650\"\n",
       "            src=\"http://127.0.0.1:8050/\"\n",
       "            frameborder=\"0\"\n",
       "            allowfullscreen\n",
       "        ></iframe>\n",
       "        "
      ],
      "text/plain": [
       "<IPython.lib.display.IFrame at 0x18ada2244f0>"
      ]
     },
     "metadata": {},
     "output_type": "display_data"
    },
    {
     "data": {
      "text/html": [
       "\n",
       "        <iframe\n",
       "            width=\"100%\"\n",
       "            height=\"650\"\n",
       "            src=\"http://127.0.0.1:8050/\"\n",
       "            frameborder=\"0\"\n",
       "            allowfullscreen\n",
       "        ></iframe>\n",
       "        "
      ],
      "text/plain": [
       "<IPython.lib.display.IFrame at 0x18ada2fb460>"
      ]
     },
     "metadata": {},
     "output_type": "display_data"
    }
   ],
   "source": [
    "app = JupyterDash(__name__)\n",
    "app = Dash(external_stylesheets=[dbc.themes.BOOTSTRAP])\n",
    "\n",
    "card = dbc.Card(\n",
    "    dbc.CardBody(\n",
    "        [\n",
    "            html.H1(\"Data Science\"),\n",
    "            html.Hr(),\n",
    "            html.Div(\n",
    "                [\n",
    "                    dbc.Input(\n",
    "                        id=\"name-input\",\n",
    "                        type=\"text\",\n",
    "                        placeholder=\"Enter your name\",\n",
    "                        style={\"width\": \"200px\"},\n",
    "                    ),\n",
    "                    html.Button(\"Submit\", id=\"submit-button\", className=\"mt-2\"),\n",
    "                ]\n",
    "            ),\n",
    "    \n",
    "        ]\n",
    "    ),\n",
    ")\n",
    "@app.callback(\n",
    "    Output(\"output-message\", \"children\"),\n",
    "    [Input(\"submit-button\", \"n_clicks\")],\n",
    "    [Input(\"name-input\", \"value\")],\n",
    ")\n",
    "def welcome_message(n_clicks, name):\n",
    "    if n_clicks is not None and name:\n",
    "        return html.H4(f\"Welcome to Data Science Dashboard, {name}\")\n",
    "\n",
    "# Layout\n",
    "app.layout = dbc.Container(card)\n",
    "\n",
    "if __name__ == \"__main__\":\n",
    "    app.run_server(mode=\"inline\")\n",
    "app.run_server()"
   ]
  },
  {
   "cell_type": "markdown",
   "metadata": {},
   "source": [
    "# Q3: Make Plotly-Dash that takes two inputs (numbers) and output 3 numbers x, y , z= x+y\n",
    "- hint: use html.Div, dcc.Input(type='number')"
   ]
  },
  {
   "cell_type": "code",
   "execution_count": null,
   "metadata": {},
   "outputs": [],
   "source": [
    "app = JupyterDash(__name__)\n",
    "\n",
    "app.layout = html.Div(\n",
    "    children=[\n",
    "        html.H1(\"Calculator\"),\n",
    "        html.Div(\n",
    "            children=[\n",
    "                html.Label(\"Number 1:\"),\n",
    "                dcc.Input(type=\"number\", id=\"number1-input\"),\n",
    "            ],\n",
    "        ),\n",
    "        html.Div(\n",
    "            children=[\n",
    "                html.Label(\"Number 2:\"),\n",
    "                dcc.Input(type=\"number\", id=\"number2-input\"),\n",
    "            ],\n",
    "        ),\n",
    "        html.Button(\"Calculate\", id=\"calculate-button\", n_clicks=0),\n",
    "        html.Div(id=\"output-container\", style={\"margin-top\": \"10px\"}),\n",
    "    ],\n",
    "\n",
    ")\n",
    "\n",
    "\n",
    "@app.callback(\n",
    "    Output(\"output-container\", \"children\"),\n",
    "    [Input(\"calculate-button\", \"n_clicks\")],\n",
    "    [Input(\"number1-input\", \"value\"), Input(\"number2-input\", \"value\")],\n",
    ")\n",
    "def calculate_sum(n_clicks, number1, number2):\n",
    "    if n_clicks > 0:\n",
    "        try:\n",
    "            x = (number1)\n",
    "            y = (number2)\n",
    "            z = x + y\n",
    "            return f\"The sum = {z}\"\n",
    "        except ValueError:\n",
    "            return \"Please enter valid numbers.\"\n",
    "\n",
    "\n",
    "if __name__ == \"__main__\":\n",
    "    app.run_server()"
   ]
  },
  {
   "cell_type": "code",
   "execution_count": null,
   "metadata": {},
   "outputs": [],
   "source": []
  },
  {
   "cell_type": "markdown",
   "metadata": {},
   "source": [
    "# Q4.1: Make JubyterDash with Rangeslider from 1-15 with 6 option"
   ]
  },
  {
   "cell_type": "code",
   "execution_count": 34,
   "metadata": {},
   "outputs": [
    {
     "data": {
      "text/html": [
       "\n",
       "        <iframe\n",
       "            width=\"100%\"\n",
       "            height=\"650\"\n",
       "            src=\"http://127.0.0.1:2221/\"\n",
       "            frameborder=\"0\"\n",
       "            allowfullscreen\n",
       "        ></iframe>\n",
       "        "
      ],
      "text/plain": [
       "<IPython.lib.display.IFrame at 0x18ae36959a0>"
      ]
     },
     "metadata": {},
     "output_type": "display_data"
    },
    {
     "name": "stdout",
     "output_type": "stream",
     "text": [
      "Dash app running on http://127.0.0.1:2221/\n"
     ]
    }
   ],
   "source": [
    "app = JupyterDash(__name__)\n",
    "app.layout = html.Div([\n",
    "    dcc.RangeSlider(min=1, max=15, step=3, value=[1, 15]),\n",
    "    html.Div()\n",
    "])\n",
    "app.run_server(port=2221)"
   ]
  },
  {
   "cell_type": "markdown",
   "metadata": {},
   "source": [
    "# Q4.2: add to the previous dash: Label, set default value on rangeslider as 7-10"
   ]
  },
  {
   "cell_type": "code",
   "execution_count": 12,
   "metadata": {},
   "outputs": [
    {
     "data": {
      "text/html": [
       "\n",
       "        <iframe\n",
       "            width=\"100%\"\n",
       "            height=\"650\"\n",
       "            src=\"http://127.0.0.1:1333/\"\n",
       "            frameborder=\"0\"\n",
       "            allowfullscreen\n",
       "        ></iframe>\n",
       "        "
      ],
      "text/plain": [
       "<IPython.lib.display.IFrame at 0x18ada23bd30>"
      ]
     },
     "metadata": {},
     "output_type": "display_data"
    },
    {
     "name": "stdout",
     "output_type": "stream",
     "text": [
      "Dash app running on http://127.0.0.1:1333/\n"
     ]
    }
   ],
   "source": [
    "app = JupyterDash(__name__)\n",
    "\n",
    "app.layout = html.Div(\n",
    "    children=[\n",
    "        html.Label('Select a range:'),\n",
    "        dcc.RangeSlider(\n",
    "            min=1,\n",
    "            max=15,\n",
    "            step=3,\n",
    "            marks={\n",
    "        1: 'One',\n",
    "        4: 'Two',\n",
    "        7: 'Three',\n",
    "        10: 'Four',\n",
    "        13: 'Five',\n",
    "        15: 'Sex'},\n",
    "            value=[7, 10],\n",
    "        ),\n",
    "    ]\n",
    ")\n",
    "app.run_server(port='1333')"
   ]
  },
  {
   "cell_type": "markdown",
   "metadata": {},
   "source": [
    "# Q5: Make 3 different Dcc types (Dropdown - Checkbox...) in one dash"
   ]
  },
  {
   "cell_type": "code",
   "execution_count": 28,
   "metadata": {},
   "outputs": [
    {
     "data": {
      "text/html": [
       "\n",
       "        <iframe\n",
       "            width=\"100%\"\n",
       "            height=\"650\"\n",
       "            src=\"http://127.0.0.1:858/\"\n",
       "            frameborder=\"0\"\n",
       "            allowfullscreen\n",
       "        ></iframe>\n",
       "        "
      ],
      "text/plain": [
       "<IPython.lib.display.IFrame at 0x18ada721e20>"
      ]
     },
     "metadata": {},
     "output_type": "display_data"
    },
    {
     "name": "stdout",
     "output_type": "stream",
     "text": [
      "Dash app running on http://127.0.0.1:858/\n"
     ]
    }
   ],
   "source": [
    "import dash_core_components as dcc\n",
    "import dash_html_components as html\n",
    "from jupyter_dash import JupyterDash\n",
    "\n",
    "app = JupyterDash()\n",
    "\n",
    "app.layout = html.Div(\n",
    "    children=[\n",
    "        html.Label('Show Checkboxes'),\n",
    "        dcc.Dropdown(\n",
    "            options=[\n",
    "                {'label': 'I have a bike', 'value': 'opt1'},\n",
    "                {'label': 'I have a car', 'value': 'opt2'},\n",
    "                {'label': 'I have a boat', 'value': 'opt3'}\n",
    "            ],\n",
    "            value='opt1',\n",
    "        ),\n",
    "        html.Label('Select city'),\n",
    "        dcc.Checklist(\n",
    "            options=[\n",
    "                {'label': 'New York City', 'value': 'NYC'},\n",
    "                {'label': 'Montréal', 'value': 'MTL'},\n",
    "                {'label': 'San Francisco', 'value': 'SF'}\n",
    "            ],\n",
    "            value=['opt1', 'opt2'],\n",
    "        ),\n",
    "        html.Label('Please select your age'),\n",
    "        dcc.RadioItems(\n",
    "            options=[\n",
    "                {'label': '0 - 30', 'value': 'opt1'},\n",
    "                {'label': '31 - 60', 'value': 'opt2'},\n",
    "                {'label': '61 - 100', 'value': 'opt3'}\n",
    "            ],\n",
    "            value='opt1',\n",
    "        ),\n",
    "    ]\n",
    ")\n",
    "\n",
    "app.run_server(port='858')"
   ]
  },
  {
   "cell_type": "markdown",
   "metadata": {},
   "source": [
    "# Q6: Make Plotly chart, then add it to a plotly_dash"
   ]
  },
  {
   "cell_type": "code",
   "execution_count": 29,
   "metadata": {},
   "outputs": [],
   "source": [
    "import plotly.express as px"
   ]
  },
  {
   "cell_type": "code",
   "execution_count": 33,
   "metadata": {},
   "outputs": [
    {
     "data": {
      "text/html": [
       "\n",
       "        <iframe\n",
       "            width=\"100%\"\n",
       "            height=\"650\"\n",
       "            src=\"http://127.0.0.1:611/\"\n",
       "            frameborder=\"0\"\n",
       "            allowfullscreen\n",
       "        ></iframe>\n",
       "        "
      ],
      "text/plain": [
       "<IPython.lib.display.IFrame at 0x18ae367e100>"
      ]
     },
     "metadata": {},
     "output_type": "display_data"
    },
    {
     "name": "stdout",
     "output_type": "stream",
     "text": [
      "Dash app running on http://127.0.0.1:611/\n"
     ]
    }
   ],
   "source": [
    "df = px.data.iris()\n",
    "chart = px.scatter(df, x=\"sepal_width\", y=\"sepal_length\", color=\"species\")\n",
    "\n",
    "# Create a Dash application\n",
    "app = JupyterDash()\n",
    "\n",
    "app.layout = html.Div(\n",
    "    children=[\n",
    "        dcc.Graph( figure=chart)\n",
    "    ]\n",
    ")\n",
    "app.run_server(port='611')"
   ]
  },
  {
   "cell_type": "code",
   "execution_count": null,
   "metadata": {},
   "outputs": [],
   "source": []
  },
  {
   "cell_type": "markdown",
   "metadata": {},
   "source": [
    "# Q7: From our data make plotly-dash with suitble chart, and Dropdown.\n",
    "\n",
    "- Dropdown should contain at least 3 options, each one represents different column.\n",
    "- Add label to dropdown.\n",
    "- The chart data should change depending on the selected dropdown option."
   ]
  },
  {
   "cell_type": "code",
   "execution_count": 36,
   "metadata": {},
   "outputs": [],
   "source": [
    "import pandas as pd\n",
    "df = pd.read_csv(\"titanic passenger list.csv\")"
   ]
  },
  {
   "cell_type": "code",
   "execution_count": 37,
   "metadata": {},
   "outputs": [
    {
     "data": {
      "text/plain": [
       "Index(['pclass', 'survived', 'name', 'sex', 'age', 'sibsp', 'parch', 'ticket',\n",
       "       'fare', 'cabin', 'embarked', 'boat', 'body', 'home.dest'],\n",
       "      dtype='object')"
      ]
     },
     "execution_count": 37,
     "metadata": {},
     "output_type": "execute_result"
    }
   ],
   "source": [
    "df.keys()"
   ]
  },
  {
   "cell_type": "code",
   "execution_count": 107,
   "metadata": {},
   "outputs": [
    {
     "data": {
      "text/plain": [
       "0            B5\n",
       "1       C22 C26\n",
       "2       C22 C26\n",
       "3       C22 C26\n",
       "4       C22 C26\n",
       "         ...   \n",
       "1304        NaN\n",
       "1305        NaN\n",
       "1306        NaN\n",
       "1307        NaN\n",
       "1308        NaN\n",
       "Name: cabin, Length: 1309, dtype: object"
      ]
     },
     "execution_count": 107,
     "metadata": {},
     "output_type": "execute_result"
    }
   ],
   "source": [
    "df['cabin']"
   ]
  },
  {
   "cell_type": "code",
   "execution_count": 96,
   "metadata": {
    "scrolled": true
   },
   "outputs": [
    {
     "data": {
      "text/html": [
       "\n",
       "        <iframe\n",
       "            width=\"100%\"\n",
       "            height=\"650\"\n",
       "            src=\"http://127.0.0.1:429/\"\n",
       "            frameborder=\"0\"\n",
       "            allowfullscreen\n",
       "        ></iframe>\n",
       "        "
      ],
      "text/plain": [
       "<IPython.lib.display.IFrame at 0x18ae4db3dc0>"
      ]
     },
     "metadata": {},
     "output_type": "display_data"
    },
    {
     "name": "stdout",
     "output_type": "stream",
     "text": [
      "Dash app running on http://127.0.0.1:429/\n"
     ]
    }
   ],
   "source": [
    "columns = [df.columns[3], df.columns[4], df.columns[11]]\n",
    "dropdown_options = [{'label': column, 'value': column} for column in columns]\n",
    "\n",
    "app = JupyterDash()\n",
    "\n",
    "app.layout = html.Div(\n",
    "    children=[\n",
    "        dcc.Dropdown(\n",
    "            options=dropdown_options,\n",
    "            value=dropdown_options[0]['value'],\n",
    "            id='column-dropdown',\n",
    "\n",
    "        ),\n",
    "        dcc.Graph(id='my-chart')\n",
    "    ]\n",
    ")\n",
    "\n",
    "\n",
    "@app.callback(\n",
    "    dash.dependencies.Output('my-chart', 'figure'),\n",
    "    [dash.dependencies.Input('column-dropdown', 'value')])\n",
    "def update_chart(selected_column):\n",
    "    fig = px.histogram(df, x=selected_column)\n",
    "    return fig\n",
    "\n",
    "app.run_server(port='429')"
   ]
  },
  {
   "cell_type": "code",
   "execution_count": null,
   "metadata": {},
   "outputs": [],
   "source": []
  },
  {
   "cell_type": "code",
   "execution_count": null,
   "metadata": {},
   "outputs": [],
   "source": []
  },
  {
   "cell_type": "markdown",
   "metadata": {},
   "source": [
    "# Q8: add 2 more charts to the prevoius Ploty-Dash"
   ]
  },
  {
   "cell_type": "code",
   "execution_count": 104,
   "metadata": {},
   "outputs": [
    {
     "data": {
      "text/html": [
       "\n",
       "        <iframe\n",
       "            width=\"100%\"\n",
       "            height=\"650\"\n",
       "            src=\"http://127.0.0.1:269/\"\n",
       "            frameborder=\"0\"\n",
       "            allowfullscreen\n",
       "        ></iframe>\n",
       "        "
      ],
      "text/plain": [
       "<IPython.lib.display.IFrame at 0x18ae659e640>"
      ]
     },
     "metadata": {},
     "output_type": "display_data"
    },
    {
     "name": "stdout",
     "output_type": "stream",
     "text": [
      "Dash app running on http://127.0.0.1:269/\n"
     ]
    }
   ],
   "source": [
    "app = JupyterDash()\n",
    "columns = [df.columns[0], df.columns[10]]\n",
    "dropdown_options = [{'label': column, 'value': column} for column in columns]\n",
    "app.layout = html.Div(\n",
    "    children=[\n",
    "        dcc.Dropdown(\n",
    "            options=dropdown_options,\n",
    "            value=dropdown_options[0]['value'],\n",
    "            id='dropdown',\n",
    "        ),\n",
    "        dcc.Graph(id='chart')\n",
    "    ]\n",
    ")\n",
    "\n",
    "@app.callback(\n",
    "    dash.dependencies.Output('chart', 'figure'),\n",
    "    [dash.dependencies.Input('dropdown', 'value')]\n",
    ")\n",
    "def charts(selected):\n",
    "    if selected == 'embarked':\n",
    "        fig = px.scatter(df, x=selected, y='fare', color='survived')\n",
    "    elif selected == 'pclass':\n",
    "        fig = px.box(df, x='survived', y=selected)\n",
    "\n",
    "    return fig\n",
    "\n",
    "\n",
    "app.run_server(port='269')"
   ]
  },
  {
   "cell_type": "markdown",
   "metadata": {},
   "source": [
    "# Q9: Search for \"Plotly Gallery\" and fetch for a graph and use it with our data.\n",
    "\n",
    "- Note: You need to put the resourse addres of fetched your grapth.\n",
    "https://plotly.com/python/plotly-fundamentals/ "
   ]
  },
  {
   "cell_type": "code",
   "execution_count": 125,
   "metadata": {},
   "outputs": [
    {
     "data": {
      "text/html": [
       "\n",
       "        <iframe\n",
       "            width=\"100%\"\n",
       "            height=\"650\"\n",
       "            src=\"http://127.0.0.1:9923/\"\n",
       "            frameborder=\"0\"\n",
       "            allowfullscreen\n",
       "        ></iframe>\n",
       "        "
      ],
      "text/plain": [
       "<IPython.lib.display.IFrame at 0x18ae61bf910>"
      ]
     },
     "metadata": {},
     "output_type": "display_data"
    },
    {
     "name": "stdout",
     "output_type": "stream",
     "text": [
      "Dash app running on http://127.0.0.1:9923/\n"
     ]
    }
   ],
   "source": [
    "import plotly.express as px\n",
    "import pandas as pd\n",
    "titanic = pd.read_csv('titanic passenger list.csv')\n",
    "fig = px.bar(df, x='age', y='survived')\n",
    "\n",
    "\n",
    "app = JupyterDash(external_stylesheets=[dbc.themes.LUX])\n",
    "fig = px.bar(df, x='age', y='survived')\n",
    "\n",
    "\n",
    "app.layout = html.Div(children=[\n",
    "    dcc.Graph(\n",
    "        id='survival-bar-chart',\n",
    "        figure=fig\n",
    "    )\n",
    "])\n",
    "app.run_server(port=9923)\n"
   ]
  },
  {
   "cell_type": "markdown",
   "metadata": {},
   "source": [
    "# Challenge 1.1: Create Plotly dash with two charts depends on different columns of the data\n",
    "- First Chart : Pie\n",
    "- Secound Chart: is by your Choice ( Not Pie )"
   ]
  },
  {
   "cell_type": "code",
   "execution_count": null,
   "metadata": {},
   "outputs": [],
   "source": []
  },
  {
   "cell_type": "markdown",
   "metadata": {},
   "source": [
    "# Challenge 1.2: Make Hovering over a slice of the pie changes the data for the second chart depending on what the slice is."
   ]
  }
 ],
 "metadata": {
  "kernelspec": {
   "display_name": "Python 3",
   "language": "python",
   "name": "python3"
  },
  "language_info": {
   "codemirror_mode": {
    "name": "ipython",
    "version": 3
   },
   "file_extension": ".py",
   "mimetype": "text/x-python",
   "name": "python",
   "nbconvert_exporter": "python",
   "pygments_lexer": "ipython3",
   "version": "3.8.5"
  }
 },
 "nbformat": 4,
 "nbformat_minor": 2
}
